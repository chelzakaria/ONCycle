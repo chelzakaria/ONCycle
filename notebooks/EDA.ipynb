{
 "cells": [
  {
   "cell_type": "code",
   "execution_count": null,
   "id": "de41a2f5",
   "metadata": {},
   "outputs": [],
   "source": [
    "import os\n",
    "from supabase import create_client, Client\n",
    "from dotenv import load_dotenv\n",
    "import matplotlib.pyplot as plt\n",
    "import pandas as pd\n",
    "import numpy as np\n",
    "from tqdm import tqdm\n",
    "\n",
    "import seaborn as sns\n",
    "\n",
    "plt.style.use('seaborn-v0_8-whitegrid')\n",
    "sns.set_palette(\"muted\")\n",
    "load_dotenv()"
   ]
  },
  {
   "cell_type": "code",
   "execution_count": null,
   "id": "a0b18fcc",
   "metadata": {},
   "outputs": [],
   "source": [
    "url: str = os.getenv(\"SUPABASE_URL\")\n",
    "key: str = os.getenv(\"SUPABASE_KEY\")\n",
    "supabase: Client = create_client(url, key)"
   ]
  },
  {
   "cell_type": "code",
   "execution_count": null,
   "id": "b60f07ba",
   "metadata": {},
   "outputs": [],
   "source": [
    "def get_all_data_paginated(table_name: str, page_size: int = 9999):\n",
    "        all_data = []\n",
    "        offset = 0\n",
    "        while True:\n",
    "            response = supabase.from_(table_name).select(\"*\").range(offset, offset + page_size - 1).execute()\n",
    "            data = response.data\n",
    "            if not data:\n",
    "                break\n",
    "            all_data.extend(data)\n",
    "            offset += page_size\n",
    "        return all_data"
   ]
  },
  {
   "cell_type": "code",
   "execution_count": null,
   "id": "97baee8f",
   "metadata": {},
   "outputs": [],
   "source": [
    "trips = get_all_data_paginated(\"trips\")"
   ]
  },
  {
   "cell_type": "code",
   "execution_count": null,
   "id": "2f8baa22",
   "metadata": {},
   "outputs": [],
   "source": [
    "# transform the data into a pandas DataFrame\n",
    "df = pd.DataFrame(trips)\n",
    "\n",
    "# format columns\n",
    "df['date'] = pd.to_datetime(df['date']).dt.date\n",
    "df['theorical_arrival_time'] = pd.to_datetime(df['theorical_arrival_time']).dt.time\n",
    "df['theorical_departure_time'] = pd.to_datetime(df['theorical_departure_time']).dt.time\n",
    "df['actual_arrival_time'] = pd.to_datetime(df['actual_arrival_time']).dt.time\n",
    "df['actual_departure_time'] = pd.to_datetime(df['actual_departure_time']).dt.time\n",
    "df"
   ]
  },
  {
   "cell_type": "code",
   "execution_count": null,
   "id": "6122fd3e",
   "metadata": {},
   "outputs": [],
   "source": [
    "df['route'] = df['initial_departure_station'] + ' - ' + df['final_arrival_station']"
   ]
  },
  {
   "cell_type": "code",
   "execution_count": null,
   "id": "256dbb34",
   "metadata": {},
   "outputs": [],
   "source": [
    "# get number of days in the dataset\n",
    "days = df['date'].nunique()\n",
    "print(f\"Number of days in the dataset: {days}\")"
   ]
  },
  {
   "cell_type": "code",
   "execution_count": null,
   "id": "49eacc53",
   "metadata": {},
   "outputs": [],
   "source": [
    "df[df.sequence == 1]['route'].value_counts()"
   ]
  },
  {
   "cell_type": "code",
   "execution_count": null,
   "id": "ad1dbbee",
   "metadata": {},
   "outputs": [],
   "source": [
    "# distribution of delay frequency for each route\n",
    "routes = df[df.station_name == df.final_arrival_station]['route'].unique()\n",
    "n_routes = len(routes)\n",
    "n_cols = 3\n",
    "n_rows = int(np.ceil(n_routes / n_cols))\n",
    "\n",
    "fig, axes = plt.subplots(n_rows, n_cols, figsize=(18, 5 * n_rows), squeeze=False)\n",
    "for idx, route in enumerate(routes):\n",
    "    row, col = divmod(idx, n_cols)\n",
    "    group = df[(df.station_name == df.final_arrival_station) & (df.route == route)]\n",
    "    sns.histplot(group['arrival_delay'], bins=30, kde=True, ax=axes[row, col])\n",
    "    axes[row, col].set_title(f'Distribution of Arrival Delay for Route: {route}')\n",
    "    axes[row, col].set_xlabel('Arrival Delay (minutes)')\n",
    "    axes[row, col].set_ylabel('Frequency')\n",
    "\n",
    "# Hide any unused subplots\n",
    "for idx in range(n_routes, n_rows * n_cols):\n",
    "    row, col = divmod(idx, n_cols)\n",
    "    axes[row, col].set_visible(False)\n",
    "\n",
    "plt.tight_layout()\n",
    "plt.show()\n",
    "\n",
    "\n"
   ]
  },
  {
   "cell_type": "code",
   "execution_count": null,
   "id": "e9b96ed9",
   "metadata": {},
   "outputs": [],
   "source": [
    "import geopy.distance"
   ]
  },
  {
   "cell_type": "code",
   "execution_count": null,
   "id": "e257f3b2",
   "metadata": {},
   "outputs": [],
   "source": [
    "coords_1 = (33.5895156, -7.5911789)\n",
    "coords_2 = (32.994123, -7.623379)\n",
    "\n",
    "print(geopy.distance.geodesic(coords_1, coords_2).km)"
   ]
  }
 ],
 "metadata": {
  "kernelspec": {
   "display_name": "env",
   "language": "python",
   "name": "python3"
  },
  "language_info": {
   "codemirror_mode": {
    "name": "ipython",
    "version": 3
   },
   "file_extension": ".py",
   "mimetype": "text/x-python",
   "name": "python",
   "nbconvert_exporter": "python",
   "pygments_lexer": "ipython3",
   "version": "3.10.7"
  }
 },
 "nbformat": 4,
 "nbformat_minor": 5
}
